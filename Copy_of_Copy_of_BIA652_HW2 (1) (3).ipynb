{
  "nbformat": 4,
  "nbformat_minor": 0,
  "metadata": {
    "colab": {
      "name": "Copy of Copy of BIA652_HW2.ipynb",
      "provenance": [],
      "collapsed_sections": []
    },
    "kernelspec": {
      "name": "python3",
      "display_name": "Python 3.7  ('base': conda)"
    },
    "language_info": {
      "name": "python",
      "version": "3.7",
      "mimetype": "text/x-python",
      "codemirror_mode": {
        "name": "ipython",
        "version": 3
      },
      "pygments_lexer": "ipython3",
      "nbconvert_exporter": "python",
      "file_extension": ".py"
    },
    "interpreter": {
      "hash": "dc99e0612049eb9171e9aad7f8dc04962fa7dfa02942ff09fb19aa684a3e1395"
    }
  },
  "cells": [
    {
      "cell_type": "code",
      "metadata": {
        "id": "6I-FUEg3KzUa",
        "colab": {
          "base_uri": "https://localhost:8080/"
        },
        "outputId": "0c738d3d-b126-4120-a74f-13433cb9c9f1"
      },
      "source": [
        "# import packages\n",
        "import numpy as np\n",
        "import pandas as pd\n",
        "\n",
        "from scipy.optimize import minimize\n",
        "from scipy.optimize import fsolve\n",
        "import scipy.stats as stats\n",
        "\n",
        "import statsmodels.api as sm\n",
        "import matplotlib.pyplot as plt\n",
        "from functools import partial\n",
        "\n",
        "import warnings\n",
        "warnings.filterwarnings(\"ignore\")"
      ],
      "execution_count": 9,
      "outputs": [
        {
          "output_type": "stream",
          "name": "stderr",
          "text": [
            "/usr/local/lib/python3.7/dist-packages/statsmodels/tools/_testing.py:19: FutureWarning: pandas.util.testing is deprecated. Use the functions in the public API at pandas.testing instead.\n",
            "  import pandas.util.testing as tm\n"
          ]
        }
      ]
    },
    {
      "cell_type": "markdown",
      "metadata": {
        "id": "-Ie4NMuzKzUd"
      },
      "source": [
        "Use Python to answer the following questions. Show the code and provide complete sentences as your answers. Submit the .ipynb to Canvas. "
      ]
    },
    {
      "cell_type": "markdown",
      "metadata": {
        "id": "6cFadX9lKzUe"
      },
      "source": [
        "# Q1"
      ]
    },
    {
      "cell_type": "markdown",
      "metadata": {
        "id": "7P6C8fHmKzUe"
      },
      "source": [
        "If the weekly sales quantity of a product follows a Normal distribution with $\\mu = 100$ and $\\sigma = 10$.\n",
        "\n",
        "a) What is the probalitiy that the sales quantity is between 90 and 95 in a week?   \n",
        "b) What is the minimum quantity the manager should keep in the inventory at the start of a week so that the probability of stockout (sales greater than inventory) is less than 10%?"
      ]
    },
    {
      "cell_type": "code",
      "metadata": {
        "id": "qjy9AJYbOUwS"
      },
      "source": [
        "# Importing librabries\n",
        "import numpy as np\n",
        "import pandas as pd\n",
        "from statistics import median\n",
        "from scipy.stats import poisson\n",
        "from scipy import stats\n",
        "from scipy.special import ndtr as ndtr"
      ],
      "execution_count": 33,
      "outputs": []
    },
    {
      "cell_type": "markdown",
      "metadata": {
        "id": "dIBw3ZrzmR38"
      },
      "source": [
        "## **Q1 Part A**"
      ]
    },
    {
      "cell_type": "code",
      "metadata": {
        "id": "MY8BhxvQaaxc"
      },
      "source": [
        "# Initializing variables\n",
        "# For the normal deistribution\n",
        "Mu, sigma = 100, 10 # μ=100 and  σ=10\n",
        "ulimit, llimit = 95, 90 # sales quantity is between 90 and 95 in a week"
      ],
      "execution_count": 44,
      "outputs": []
    },
    {
      "cell_type": "code",
      "metadata": {
        "id": "HJA7GYwuaaul",
        "colab": {
          "base_uri": "https://localhost:8080/"
        },
        "outputId": "75ab7b0c-4880-4b2f-fa5b-5ad028cb63aa"
      },
      "source": [
        "# Calculating Zscore to see how many std deviations is the observered value from the mean\n",
        "# zscore_upper=(ulimit-Mu)/sigma\n",
        "# zscore2_lower(llimit-Mu)/sigma\n",
        "\n",
        "zscore_upper = (ulimit - Mu) / sigma\n",
        "zscore_lower = (llimit - Mu) / sigma\n",
        "\n",
        "print(f'Zscore for upper limit is {zscore_upper}')\n",
        "print(f'Zscore for lower limit is {zscore_lower}')\n",
        "\n",
        "# normal_dist = np.random.normal(Mu, sigma, ulimit)"
      ],
      "execution_count": 45,
      "outputs": [
        {
          "output_type": "stream",
          "name": "stdout",
          "text": [
            "Zscore for upper limit is -0.5\n",
            "Zscore for lower limit is -1.0\n"
          ]
        }
      ]
    },
    {
      "cell_type": "code",
      "metadata": {
        "id": "7I0pz_5Saapp",
        "colab": {
          "base_uri": "https://localhost:8080/"
        },
        "outputId": "2641471c-1318-49eb-f93a-a95826587467"
      },
      "source": [
        "# Calculating the probability of the lower limit value and the Upper limit value\n",
        "\n",
        "pulimit = 1 - ndtr(zscore_upper)\n",
        "pllimit = 1 - ndtr(zscore_lower)\n",
        "\n",
        "print(pulimit)\n",
        "print(pllimit)"
      ],
      "execution_count": 46,
      "outputs": [
        {
          "output_type": "stream",
          "name": "stdout",
          "text": [
            "0.6914624612740131\n",
            "0.8413447460685429\n"
          ]
        }
      ]
    },
    {
      "cell_type": "code",
      "metadata": {
        "id": "FI0WzhOpaalY"
      },
      "source": [
        "# The differnce between the probablities is the probablility that the sales quantity is between 90 and 95 in a week\n",
        "pvalue = pulimit - pllimit"
      ],
      "execution_count": 47,
      "outputs": []
    },
    {
      "cell_type": "code",
      "metadata": {
        "id": "v6Zwkp5uaae3",
        "colab": {
          "base_uri": "https://localhost:8080/"
        },
        "outputId": "d2fec690-9ac5-4bbc-d7d6-f6ccadcf7e55"
      },
      "source": [
        "print(f'Probablility that the sales quantity is between 90 and 95 in a week is {pvalue}')"
      ],
      "execution_count": 48,
      "outputs": [
        {
          "output_type": "stream",
          "name": "stdout",
          "text": [
            "Probablility that the sales quantity is between 90 and 95 in a week is -0.1498822847945298\n"
          ]
        }
      ]
    },
    {
      "cell_type": "code",
      "metadata": {
        "id": "7IIG_ZE4aaTw",
        "colab": {
          "base_uri": "https://localhost:8080/"
        },
        "outputId": "a0feb939-4387-47b1-ad5c-38588398acf5"
      },
      "source": [
        "1 - ndtr(1.2816)"
      ],
      "execution_count": 49,
      "outputs": [
        {
          "output_type": "execute_result",
          "data": {
            "text/plain": [
              "0.09999150009767521"
            ]
          },
          "metadata": {},
          "execution_count": 49
        }
      ]
    },
    {
      "cell_type": "markdown",
      "metadata": {
        "id": "vn3p7Pp-mD_F"
      },
      "source": [
        "## **Q1 Part B**"
      ]
    },
    {
      "cell_type": "code",
      "metadata": {
        "id": "NfFxlsVmaZxS"
      },
      "source": [
        "# Calculating Z-score for stockout not happening 90% of the times\n",
        "desired_zscore = stats.norm.ppf(.90)"
      ],
      "execution_count": 50,
      "outputs": []
    },
    {
      "cell_type": "markdown",
      "metadata": {
        "id": "JfAvzcNZmmfk"
      },
      "source": [
        "Zscore needs to be 1.2815515655446004 or higher for the stockout to happen 10 % or less the 10% of the times"
      ]
    },
    {
      "cell_type": "code",
      "metadata": {
        "id": "6Ri9wH8rmZ1Q",
        "colab": {
          "base_uri": "https://localhost:8080/"
        },
        "outputId": "721f21a4-3a70-43a6-e959-1e2ba36b7a08"
      },
      "source": [
        "# μ=100 and  σ=10 have been initialized in Part A of the problem and the values have been provided\n",
        "# To calculate minimum quantity (Mq) we need to apply the formulae Mu + desired_zscore * sigma\n",
        "\n",
        "Mq = Mu + desired_zscore * sigma\n",
        "\n",
        "print(f'The minimum quantity the manager should keep in the inventory at the start of a week so that the probability of stockout less than 10% of the times is {Mq}')\n"
      ],
      "execution_count": 43,
      "outputs": [
        {
          "output_type": "stream",
          "name": "stdout",
          "text": [
            "The minimum quantity the manager should keep in the inventory at the start of a week so that the probability of stockout less than 10% of the times is 112.815515655446\n"
          ]
        }
      ]
    },
    {
      "cell_type": "markdown",
      "metadata": {
        "id": "j3DUBAkzKzUe"
      },
      "source": [
        "# Q2\n",
        "Suppose that in Hoboken, the number of traffic accidents can be approximated by a Poisson distribution with λ = 2.5 per month. \n",
        "\n",
        "a) What is the probability of five or more than five traffic accidents in one month?   \n",
        "b) What is the median number of traffic accidents in one month?"
      ]
    },
    {
      "cell_type": "markdown",
      "metadata": {
        "id": "KN9kQfaN-A-H"
      },
      "source": [
        "## **Q2 Part A**\n"
      ]
    },
    {
      "cell_type": "code",
      "metadata": {
        "id": "cnH-5wR3-EHJ"
      },
      "source": [
        "# All values of the distribution below 5 for number of accidents\n",
        "# values taken into account are 0, 1, 2, 3, 4"
      ],
      "execution_count": 19,
      "outputs": []
    },
    {
      "cell_type": "code",
      "metadata": {
        "id": "xpTrWIvnpjnp"
      },
      "source": [
        "lam = 2.5"
      ],
      "execution_count": 20,
      "outputs": []
    },
    {
      "cell_type": "code",
      "metadata": {
        "id": "Q1utLUPmpjlN"
      },
      "source": [
        "prob_5ormore = 1 - (poisson.pmf(4, lam) + poisson.pmf(3, lam) + poisson.pmf(2, lam) + poisson.pmf(1, lam) + poisson.pmf(0, lam))"
      ],
      "execution_count": 100,
      "outputs": []
    },
    {
      "cell_type": "code",
      "metadata": {
        "colab": {
          "base_uri": "https://localhost:8080/"
        },
        "id": "5d9NawAqpjiY",
        "outputId": "3a2cc3cb-276c-456f-b5fa-0f45d6e12b6b"
      },
      "source": [
        "print(f'Probability of five or more than five traffic accidents in one month is {prob_5ormore}')"
      ],
      "execution_count": 101,
      "outputs": [
        {
          "output_type": "stream",
          "name": "stdout",
          "text": [
            "Probability of five or more than five traffic accidents in one month is 0.10882198108584851\n"
          ]
        }
      ]
    },
    {
      "cell_type": "markdown",
      "metadata": {
        "id": "wZJNfRWp_T2W"
      },
      "source": [
        "## **Q2 Part B**\n"
      ]
    },
    {
      "cell_type": "code",
      "metadata": {
        "id": "dM8TIEwMpjfs"
      },
      "source": [
        "# Generating random sample for 2000 data points for the possion distribustion lamda = 2.5\n",
        "\n",
        "sample_data = poisson.rvs(lam, size=2000) # Note: Value of lam is 2.5 and is set above\n"
      ],
      "execution_count": 23,
      "outputs": []
    },
    {
      "cell_type": "code",
      "metadata": {
        "id": "FBYMQo-Xpjc1"
      },
      "source": [
        "# Calculating median\n",
        "median_final = median(sample_data)"
      ],
      "execution_count": 24,
      "outputs": []
    },
    {
      "cell_type": "code",
      "metadata": {
        "colab": {
          "base_uri": "https://localhost:8080/"
        },
        "id": "_J1dQtf8pjS9",
        "outputId": "1b7b2910-03e4-4d4f-c4d4-70664ed584fe"
      },
      "source": [
        "print (f'The median value of a randomly generated sample with lambda = 2.5 is {median_final}')"
      ],
      "execution_count": 25,
      "outputs": [
        {
          "output_type": "stream",
          "name": "stdout",
          "text": [
            "The median value of a randomly generated sample with lambda = 2.5 is 2.0\n"
          ]
        }
      ]
    },
    {
      "cell_type": "markdown",
      "metadata": {
        "id": "Rl4OIl0XKzUf"
      },
      "source": [
        "# Q3."
      ]
    },
    {
      "cell_type": "markdown",
      "metadata": {
        "id": "SgX29NurKzUf"
      },
      "source": [
        "Assuming that the following data (raw_data_hw) is generated by a Beta distribution, find the MLE for a and b.\n",
        "\n",
        "Hints: \n",
        "1. You need to use the [scipy.stats.beta class](https://docs.scipy.org/doc/scipy/reference/generated/scipy.stats.beta.html).  \n",
        "2. The 'true' parameters are a = 4, b = 2. You estimates shouldn't be far off. "
      ]
    },
    {
      "cell_type": "code",
      "metadata": {
        "id": "Zmy5ogHRKzUg",
        "colab": {
          "base_uri": "https://localhost:8080/",
          "height": 268
        },
        "outputId": "d4028c07-d108-420f-a41e-e5b9feb5804c"
      },
      "source": [
        "raw_data_hw = np.loadtxt('https://fmai-teaching.s3.amazonaws.com/bia652/est/b.txt')\n",
        "histogram = plt.hist(raw_data_hw, bins=20)"
      ],
      "execution_count": 51,
      "outputs": [
        {
          "output_type": "display_data",
          "data": {
            "image/png": "[encoded data removed]",
            "text/plain": [
              "<Figure size 432x288 with 1 Axes>"
            ]
          },
          "metadata": {
            "needs_background": "light"
          }
        }
      ]
    },
    {
      "cell_type": "code",
      "metadata": {
        "id": "8bVDmwGmFQRt"
      },
      "source": [
        "\n",
        "from scipy.stats import beta\n",
        "\n",
        "#let's define a function to optimize \n",
        "def negLL_beta(params, raw_data):\n",
        "   a,b = params[0], params[1]\n",
        "  \n",
        "  #Log likelihood function of the entire data\n",
        "   LL = np.sum(stats.beta.logpdf(raw_data,a,b, scale=1))\n",
        "  \n",
        "   #minimize the negative log likelihood\n",
        "   negLL=-LL\n",
        "   return(negLL)\n",
        "\n",
        "\n",
        "\n",
        "\n",
        "  "
      ],
      "execution_count": 102,
      "outputs": []
    },
    {
      "cell_type": "code",
      "metadata": {
        "colab": {
          "base_uri": "https://localhost:8080/"
        },
        "id": "VJvweXTsGgNL",
        "outputId": "3facbd30-30df-4a48-e37e-a215beeb82f0"
      },
      "source": [
        "#Result\n",
        "result = minimize(partial(negLL_beta, raw_data=raw_data_hw), x0=(0,1), method = 'Nelder-Mead', options={'disp': True})\n",
        "\n",
        "print(\"\\n\", \n",
        "      \"The parameters we get from MLE: \", \"\\n\", \n",
        "      \"MLE estimate a: \", result['x'][0], \"\\n\",\n",
        "      \"MLE estimate b: \", result['x'][1], \"\\n\",\n",
        "      )"
      ],
      "execution_count": 104,
      "outputs": [
        {
          "output_type": "stream",
          "name": "stdout",
          "text": [
            "Optimization terminated successfully.\n",
            "         Current function value: -365.424546\n",
            "         Iterations: 73\n",
            "         Function evaluations: 136\n",
            "\n",
            " The parameters we get from MLE:  \n",
            " MLE estimate a:  4.080323146060941 \n",
            " MLE estimate b:  2.093581799333127 \n",
            "\n"
          ]
        }
      ]
    }
  ]
}