{
  "nbformat": 4,
  "nbformat_minor": 0,
  "metadata": {
    "kernelspec": {
      "display_name": "Python 3",
      "language": "python",
      "name": "python3"
    },
    "language_info": {
      "codemirror_mode": {
        "name": "ipython",
        "version": 3
      },
      "file_extension": ".py",
      "mimetype": "text/x-python",
      "name": "python",
      "nbconvert_exporter": "python",
      "pygments_lexer": "ipython3",
      "version": "3.7.1"
    },
    "toc": {
      "base_numbering": 1,
      "nav_menu": {},
      "number_sections": true,
      "sideBar": true,
      "skip_h1_title": false,
      "title_cell": "Table of Contents",
      "title_sidebar": "Contents",
      "toc_cell": false,
      "toc_position": {},
      "toc_section_display": true,
      "toc_window_display": false
    },
    "colab": {
      "name": "Assignment 1.ipynb",
      "provenance": [],
      "collapsed_sections": []
    }
  },
  "cells": [
    {
      "cell_type": "markdown",
      "metadata": {
        "id": "4ZFQ2nroIQrO"
      },
      "source": [
        "# BIA-652 Assignment 1. Intro to Pandas"
      ]
    },
    {
      "cell_type": "markdown",
      "metadata": {
        "id": "h8FVQszQUqzN"
      },
      "source": [
        "Note: Please **DO NOT** share your answers with anyone, including uploading to Github, Course Hero, etc. "
      ]
    },
    {
      "cell_type": "markdown",
      "metadata": {
        "id": "ugJf5_2iUqzO"
      },
      "source": [
        "###  Name: Puneeth Sai Panuganti\n"
      ]
    },
    {
      "cell_type": "code",
      "metadata": {
        "id": "Cd9bmDa6UqzP"
      },
      "source": [
        "import numpy as np #numerical computation\n",
        "import pandas as pd #processing dataframes"
      ],
      "execution_count": 1,
      "outputs": []
    },
    {
      "cell_type": "markdown",
      "metadata": {
        "id": "PPRNhLHtIQrP"
      },
      "source": [
        "Use the `RegularSeasonCompactResults` data to answer the following questions:  "
      ]
    },
    {
      "cell_type": "code",
      "metadata": {
        "id": "2Ze7OCGGUqzU"
      },
      "source": [
        "# Download example data set\n",
        "import urllib.request\n",
        "from zipfile import ZipFile\n",
        "\n",
        "urllib.request.urlretrieve(\"http://fengmai.net/download/data/bia652/pandas_data.zip\", \n",
        "                           \"pandas_data.zip\")\n",
        "ZipFile(\"pandas_data.zip\").extractall()\n",
        "df = pd.read_csv('data/RegularSeasonCompactResults.csv')"
      ],
      "execution_count": 2,
      "outputs": []
    },
    {
      "cell_type": "markdown",
      "metadata": {
        "id": "95htFBkZIQrP"
      },
      "source": [
        "__Q1: Create a new column `total_score` as the sum of Wscore and Lscore.__ "
      ]
    },
    {
      "cell_type": "code",
      "metadata": {
        "id": "veqtInvRoeoZ",
        "colab": {
          "base_uri": "https://localhost:8080/"
        },
        "outputId": "5801b2f7-4d26-4a4d-b5dd-b9f5b60210b6"
      },
      "source": [
        "print(df.head())\n",
        "#Total score\n",
        "df[\"total_score\"] = df[\"Wscore\"] + df[\"Lscore\"]\n",
        "print(\"*************************\")\n",
        "print(\"Displaying final output\")\n",
        "print(\"*************************\")\n",
        "print(df.head())"
      ],
      "execution_count": 3,
      "outputs": [
        {
          "output_type": "stream",
          "name": "stdout",
          "text": [
            "   Season  Daynum  Wteam  Wscore  Lteam  Lscore Wloc  Numot\n",
            "0    1985      20   1228      81   1328      64    N      0\n",
            "1    1985      25   1106      77   1354      70    H      0\n",
            "2    1985      25   1112      63   1223      56    H      0\n",
            "3    1985      25   1165      70   1432      54    H      0\n",
            "4    1985      25   1192      86   1447      74    H      0\n",
            "*************************\n",
            "Displaying final output\n",
            "*************************\n",
            "   Season  Daynum  Wteam  Wscore  Lteam  Lscore Wloc  Numot  total_score\n",
            "0    1985      20   1228      81   1328      64    N      0          145\n",
            "1    1985      25   1106      77   1354      70    H      0          147\n",
            "2    1985      25   1112      63   1223      56    H      0          119\n",
            "3    1985      25   1165      70   1432      54    H      0          124\n",
            "4    1985      25   1192      86   1447      74    H      0          160\n"
          ]
        }
      ]
    },
    {
      "cell_type": "markdown",
      "metadata": {
        "id": "xTQdzwXPIQrR"
      },
      "source": [
        "__Q2: What is the min, max, average, and median of the total_score?__ "
      ]
    },
    {
      "cell_type": "code",
      "metadata": {
        "colab": {
          "base_uri": "https://localhost:8080/"
        },
        "id": "biC9m221SF1d",
        "outputId": "58e304db-babb-40ef-c93d-669f6b32437d"
      },
      "source": [
        "#Minimum of Total Score\n",
        "df.total_score.min() "
      ],
      "execution_count": 4,
      "outputs": [
        {
          "output_type": "execute_result",
          "data": {
            "text/plain": [
              "62"
            ]
          },
          "metadata": {},
          "execution_count": 4
        }
      ]
    },
    {
      "cell_type": "code",
      "metadata": {
        "colab": {
          "base_uri": "https://localhost:8080/"
        },
        "id": "k0-RgUAtSSPI",
        "outputId": "62373db8-5b72-4b45-8fc2-222bc3e460f5"
      },
      "source": [
        "#Maximum of Total Score\n",
        "df.total_score.max()"
      ],
      "execution_count": 5,
      "outputs": [
        {
          "output_type": "execute_result",
          "data": {
            "text/plain": [
              "331"
            ]
          },
          "metadata": {},
          "execution_count": 5
        }
      ]
    },
    {
      "cell_type": "code",
      "metadata": {
        "colab": {
          "base_uri": "https://localhost:8080/"
        },
        "id": "8nE_LW9XSYDd",
        "outputId": "486739a7-18c0-4d35-b3b2-0de320080431"
      },
      "source": [
        "#Average of Total Score\n",
        "df.total_score.mean()"
      ],
      "execution_count": 6,
      "outputs": [
        {
          "output_type": "execute_result",
          "data": {
            "text/plain": [
              "141.0973301488757"
            ]
          },
          "metadata": {},
          "execution_count": 6
        }
      ]
    },
    {
      "cell_type": "code",
      "metadata": {
        "colab": {
          "base_uri": "https://localhost:8080/"
        },
        "id": "tvEL0wrJSiQE",
        "outputId": "6e22f2ea-2799-4817-e95a-58b1bbdff1cf"
      },
      "source": [
        "#Median of Total Score\n",
        "df.total_score.median()"
      ],
      "execution_count": 7,
      "outputs": [
        {
          "output_type": "execute_result",
          "data": {
            "text/plain": [
              "140.0"
            ]
          },
          "metadata": {},
          "execution_count": 7
        }
      ]
    },
    {
      "cell_type": "markdown",
      "metadata": {
        "id": "_qa-S2g0IQrT"
      },
      "source": [
        "__Q3: Find the average total score for each year (season).__ "
      ]
    },
    {
      "cell_type": "code",
      "metadata": {
        "colab": {
          "base_uri": "https://localhost:8080/",
          "height": 204
        },
        "id": "P9tmftxZSrKL",
        "outputId": "6c67c7ae-cca3-4251-c3dc-ef0417293051"
      },
      "source": [
        "#Average Total score by year\n",
        "df_total_score_by_year = df.groupby(by=\"Season\").total_score.mean().reset_index()\n",
        "df_total_score_by_year.head()"
      ],
      "execution_count": 8,
      "outputs": [
        {
          "output_type": "execute_result",
          "data": {
            "text/html": [
              "<div>\n",
              "<style scoped>\n",
              "    .dataframe tbody tr th:only-of-type {\n",
              "        vertical-align: middle;\n",
              "    }\n",
              "\n",
              "    .dataframe tbody tr th {\n",
              "        vertical-align: top;\n",
              "    }\n",
              "\n",
              "    .dataframe thead th {\n",
              "        text-align: right;\n",
              "    }\n",
              "</style>\n",
              "<table border=\"1\" class=\"dataframe\">\n",
              "  <thead>\n",
              "    <tr style=\"text-align: right;\">\n",
              "      <th></th>\n",
              "      <th>Season</th>\n",
              "      <th>total_score</th>\n",
              "    </tr>\n",
              "  </thead>\n",
              "  <tbody>\n",
              "    <tr>\n",
              "      <th>0</th>\n",
              "      <td>1985</td>\n",
              "      <td>138.583356</td>\n",
              "    </tr>\n",
              "    <tr>\n",
              "      <th>1</th>\n",
              "      <td>1986</td>\n",
              "      <td>138.447528</td>\n",
              "    </tr>\n",
              "    <tr>\n",
              "      <th>2</th>\n",
              "      <td>1987</td>\n",
              "      <td>144.764496</td>\n",
              "    </tr>\n",
              "    <tr>\n",
              "      <th>3</th>\n",
              "      <td>1988</td>\n",
              "      <td>147.470796</td>\n",
              "    </tr>\n",
              "    <tr>\n",
              "      <th>4</th>\n",
              "      <td>1989</td>\n",
              "      <td>151.259351</td>\n",
              "    </tr>\n",
              "  </tbody>\n",
              "</table>\n",
              "</div>"
            ],
            "text/plain": [
              "   Season  total_score\n",
              "0    1985   138.583356\n",
              "1    1986   138.447528\n",
              "2    1987   144.764496\n",
              "3    1988   147.470796\n",
              "4    1989   151.259351"
            ]
          },
          "metadata": {},
          "execution_count": 8
        }
      ]
    },
    {
      "cell_type": "markdown",
      "metadata": {
        "id": "imXNpjC1IQrU"
      },
      "source": [
        "__Q4: Plot a time series plot of average total score by year (season)__ \n",
        "\n",
        "Hint: search Google for: how to plot a pandas series or [read the user guide](https://pandas.pydata.org/docs/user_guide/visualization.html)\n"
      ]
    },
    {
      "cell_type": "code",
      "metadata": {
        "colab": {
          "base_uri": "https://localhost:8080/",
          "height": 279
        },
        "id": "j7Km32Y_U97C",
        "outputId": "969e07ed-6322-4f64-b830-282f1bbfc9e3"
      },
      "source": [
        "#Importing Libraries\n",
        "%matplotlib inline\n",
        "from matplotlib import pyplot as plt\n",
        "\n",
        "#Plot for Avg Total score by year\n",
        "\n",
        "df.groupby(by=\"Season\").total_score.mean().plot();"
      ],
      "execution_count": 9,
      "outputs": [
        {
          "output_type": "display_data",
          "data": {
            "image/png": "[encoded data removed]",
            "text/plain": [
              "<Figure size 432x288 with 1 Axes>"
            ]
          },
          "metadata": {
            "needs_background": "light"
          }
        }
      ]
    },
    {
      "cell_type": "markdown",
      "metadata": {
        "id": "b9OTlGDYIQrW"
      },
      "source": [
        "__Q5: Which year has the highest percentage of blowout games, which is defined as a winning margin of at least 30 points?__ \n",
        "\n"
      ]
    },
    {
      "cell_type": "code",
      "metadata": {
        "id": "ZVVc41WPYGbj"
      },
      "source": [
        "# Adding column for Win margin and assigning value of win vs lose score to the column\n",
        "df[\"win_margin\"] = df[\"Wscore\"] - df[\"Lscore\"]"
      ],
      "execution_count": 10,
      "outputs": []
    },
    {
      "cell_type": "code",
      "metadata": {
        "id": "dhJZmDqDYvet"
      },
      "source": [
        "# Adding column and initializing it with zero\n",
        "# The column will have a value of 1 if the win margin is a blowout i.e. 30 or over as difference\n",
        "df[\"blowout_ind\"] = 0"
      ],
      "execution_count": 11,
      "outputs": []
    },
    {
      "cell_type": "code",
      "metadata": {
        "id": "fEX3nDECZ1aT"
      },
      "source": [
        "# Assigning value of 1 to wherever applicable\n",
        "df.loc[df.win_margin>=30, \"blowout_ind\"] = 1"
      ],
      "execution_count": 12,
      "outputs": []
    },
    {
      "cell_type": "code",
      "metadata": {
        "id": "WaHuBdIpbBTt"
      },
      "source": [
        "df_years_by_blowout = df.groupby(by=\"Season\").blowout_ind.sum().reset_index()"
      ],
      "execution_count": 13,
      "outputs": []
    },
    {
      "cell_type": "code",
      "metadata": {
        "colab": {
          "base_uri": "https://localhost:8080/"
        },
        "id": "bJ2mOPcJhdan",
        "outputId": "5372cce6-b7e0-4e51-82ba-53bd8991c384"
      },
      "source": [
        "# Finding the value of the year where the blowout was the maximum\n",
        "df_years_by_blowout[df_years_by_blowout.blowout_ind == df_years_by_blowout.blowout_ind.max()][\"Season\"]"
      ],
      "execution_count": 14,
      "outputs": [
        {
          "output_type": "execute_result",
          "data": {
            "text/plain": [
              "23    2008\n",
              "Name: Season, dtype: int64"
            ]
          },
          "metadata": {},
          "execution_count": 14
        }
      ]
    },
    {
      "cell_type": "markdown",
      "metadata": {
        "id": "ib6-mtb5UqzZ"
      },
      "source": [
        "**Q6: For each team and season combination,   \n",
        "a) find the average number of points scored by the team per game in each season;  \n",
        "b) plot the average points scored by team 1461 by year.**\n",
        "\n",
        "Hint: This requires you to consider both the case when the team won (Wscore) and when the team lost (Lscore).  \n",
        "Your answer for each team-year combination should be between Wscore_when_winning and Lscore_when_losing in the last dataframe of the tutorial. "
      ]
    },
    {
      "cell_type": "code",
      "metadata": {
        "id": "SFKDqQaFWH2y"
      },
      "source": [
        "# Adding a column to keep count of the number of games and initializing it to a value of 1\n",
        "df[\"count\"] = 1"
      ],
      "execution_count": 15,
      "outputs": []
    },
    {
      "cell_type": "code",
      "metadata": {
        "colab": {
          "base_uri": "https://localhost:8080/",
          "height": 204
        },
        "id": "NeTbUXeAm0w-",
        "outputId": "c9c02b9b-e18d-4c25-e848-ef0be85cc5fb"
      },
      "source": [
        "df.head()"
      ],
      "execution_count": 16,
      "outputs": [
        {
          "output_type": "execute_result",
          "data": {
            "text/html": [
              "<div>\n",
              "<style scoped>\n",
              "    .dataframe tbody tr th:only-of-type {\n",
              "        vertical-align: middle;\n",
              "    }\n",
              "\n",
              "    .dataframe tbody tr th {\n",
              "        vertical-align: top;\n",
              "    }\n",
              "\n",
              "    .dataframe thead th {\n",
              "        text-align: right;\n",
              "    }\n",
              "</style>\n",
              "<table border=\"1\" class=\"dataframe\">\n",
              "  <thead>\n",
              "    <tr style=\"text-align: right;\">\n",
              "      <th></th>\n",
              "      <th>Season</th>\n",
              "      <th>Daynum</th>\n",
              "      <th>Wteam</th>\n",
              "      <th>Wscore</th>\n",
              "      <th>Lteam</th>\n",
              "      <th>Lscore</th>\n",
              "      <th>Wloc</th>\n",
              "      <th>Numot</th>\n",
              "      <th>total_score</th>\n",
              "      <th>win_margin</th>\n",
              "      <th>blowout_ind</th>\n",
              "      <th>count</th>\n",
              "    </tr>\n",
              "  </thead>\n",
              "  <tbody>\n",
              "    <tr>\n",
              "      <th>0</th>\n",
              "      <td>1985</td>\n",
              "      <td>20</td>\n",
              "      <td>1228</td>\n",
              "      <td>81</td>\n",
              "      <td>1328</td>\n",
              "      <td>64</td>\n",
              "      <td>N</td>\n",
              "      <td>0</td>\n",
              "      <td>145</td>\n",
              "      <td>17</td>\n",
              "      <td>0</td>\n",
              "      <td>1</td>\n",
              "    </tr>\n",
              "    <tr>\n",
              "      <th>1</th>\n",
              "      <td>1985</td>\n",
              "      <td>25</td>\n",
              "      <td>1106</td>\n",
              "      <td>77</td>\n",
              "      <td>1354</td>\n",
              "      <td>70</td>\n",
              "      <td>H</td>\n",
              "      <td>0</td>\n",
              "      <td>147</td>\n",
              "      <td>7</td>\n",
              "      <td>0</td>\n",
              "      <td>1</td>\n",
              "    </tr>\n",
              "    <tr>\n",
              "      <th>2</th>\n",
              "      <td>1985</td>\n",
              "      <td>25</td>\n",
              "      <td>1112</td>\n",
              "      <td>63</td>\n",
              "      <td>1223</td>\n",
              "      <td>56</td>\n",
              "      <td>H</td>\n",
              "      <td>0</td>\n",
              "      <td>119</td>\n",
              "      <td>7</td>\n",
              "      <td>0</td>\n",
              "      <td>1</td>\n",
              "    </tr>\n",
              "    <tr>\n",
              "      <th>3</th>\n",
              "      <td>1985</td>\n",
              "      <td>25</td>\n",
              "      <td>1165</td>\n",
              "      <td>70</td>\n",
              "      <td>1432</td>\n",
              "      <td>54</td>\n",
              "      <td>H</td>\n",
              "      <td>0</td>\n",
              "      <td>124</td>\n",
              "      <td>16</td>\n",
              "      <td>0</td>\n",
              "      <td>1</td>\n",
              "    </tr>\n",
              "    <tr>\n",
              "      <th>4</th>\n",
              "      <td>1985</td>\n",
              "      <td>25</td>\n",
              "      <td>1192</td>\n",
              "      <td>86</td>\n",
              "      <td>1447</td>\n",
              "      <td>74</td>\n",
              "      <td>H</td>\n",
              "      <td>0</td>\n",
              "      <td>160</td>\n",
              "      <td>12</td>\n",
              "      <td>0</td>\n",
              "      <td>1</td>\n",
              "    </tr>\n",
              "  </tbody>\n",
              "</table>\n",
              "</div>"
            ],
            "text/plain": [
              "   Season  Daynum  Wteam  Wscore  ...  total_score  win_margin blowout_ind  count\n",
              "0    1985      20   1228      81  ...          145          17           0      1\n",
              "1    1985      25   1106      77  ...          147           7           0      1\n",
              "2    1985      25   1112      63  ...          119           7           0      1\n",
              "3    1985      25   1165      70  ...          124          16           0      1\n",
              "4    1985      25   1192      86  ...          160          12           0      1\n",
              "\n",
              "[5 rows x 12 columns]"
            ]
          },
          "metadata": {},
          "execution_count": 16
        }
      ]
    },
    {
      "cell_type": "code",
      "metadata": {
        "colab": {
          "base_uri": "https://localhost:8080/"
        },
        "id": "9N5zzsyAm2Ya",
        "outputId": "b34d6d37-ed35-4e67-e3f5-600777d979fd"
      },
      "source": [
        "# Creating dataframe for score for winning games by grouping using Season and team \n",
        "df_win_team_scores = df.groupby(by=[\"Season\", \"Wteam\"])[\"Wscore\", \"count\"].sum().reset_index();"
      ],
      "execution_count": 17,
      "outputs": [
        {
          "output_type": "stream",
          "name": "stderr",
          "text": [
            "/usr/local/lib/python3.7/dist-packages/ipykernel_launcher.py:2: FutureWarning: Indexing with multiple keys (implicitly converted to a tuple of keys) will be deprecated, use a list instead.\n",
            "  \n"
          ]
        }
      ]
    },
    {
      "cell_type": "code",
      "metadata": {
        "colab": {
          "base_uri": "https://localhost:8080/"
        },
        "id": "h3A_trVEnAN2",
        "outputId": "2fac67ef-3cff-4bb2-a5bb-6845e9569c33"
      },
      "source": [
        "# Creating dataframe for score for losing games by grouping using Season and team \n",
        "df_losing_team_scores = df.groupby(by=[\"Season\", \"Lteam\"])[\"Lscore\", \"count\"].sum().reset_index();"
      ],
      "execution_count": 18,
      "outputs": [
        {
          "output_type": "stream",
          "name": "stderr",
          "text": [
            "/usr/local/lib/python3.7/dist-packages/ipykernel_launcher.py:2: FutureWarning: Indexing with multiple keys (implicitly converted to a tuple of keys) will be deprecated, use a list instead.\n",
            "  \n"
          ]
        }
      ]
    },
    {
      "cell_type": "code",
      "metadata": {
        "colab": {
          "base_uri": "https://localhost:8080/",
          "height": 204
        },
        "id": "pGOzMDwinOV5",
        "outputId": "6cae55b2-ed9c-4f4c-b439-4e1533dc0bae"
      },
      "source": [
        "df_win_team_scores.head()"
      ],
      "execution_count": 19,
      "outputs": [
        {
          "output_type": "execute_result",
          "data": {
            "text/html": [
              "<div>\n",
              "<style scoped>\n",
              "    .dataframe tbody tr th:only-of-type {\n",
              "        vertical-align: middle;\n",
              "    }\n",
              "\n",
              "    .dataframe tbody tr th {\n",
              "        vertical-align: top;\n",
              "    }\n",
              "\n",
              "    .dataframe thead th {\n",
              "        text-align: right;\n",
              "    }\n",
              "</style>\n",
              "<table border=\"1\" class=\"dataframe\">\n",
              "  <thead>\n",
              "    <tr style=\"text-align: right;\">\n",
              "      <th></th>\n",
              "      <th>Season</th>\n",
              "      <th>Wteam</th>\n",
              "      <th>Wscore</th>\n",
              "      <th>count</th>\n",
              "    </tr>\n",
              "  </thead>\n",
              "  <tbody>\n",
              "    <tr>\n",
              "      <th>0</th>\n",
              "      <td>1985</td>\n",
              "      <td>1102</td>\n",
              "      <td>355</td>\n",
              "      <td>5</td>\n",
              "    </tr>\n",
              "    <tr>\n",
              "      <th>1</th>\n",
              "      <td>1985</td>\n",
              "      <td>1103</td>\n",
              "      <td>632</td>\n",
              "      <td>9</td>\n",
              "    </tr>\n",
              "    <tr>\n",
              "      <th>2</th>\n",
              "      <td>1985</td>\n",
              "      <td>1104</td>\n",
              "      <td>1514</td>\n",
              "      <td>21</td>\n",
              "    </tr>\n",
              "    <tr>\n",
              "      <th>3</th>\n",
              "      <td>1985</td>\n",
              "      <td>1106</td>\n",
              "      <td>751</td>\n",
              "      <td>10</td>\n",
              "    </tr>\n",
              "    <tr>\n",
              "      <th>4</th>\n",
              "      <td>1985</td>\n",
              "      <td>1108</td>\n",
              "      <td>1631</td>\n",
              "      <td>19</td>\n",
              "    </tr>\n",
              "  </tbody>\n",
              "</table>\n",
              "</div>"
            ],
            "text/plain": [
              "   Season  Wteam  Wscore  count\n",
              "0    1985   1102     355      5\n",
              "1    1985   1103     632      9\n",
              "2    1985   1104    1514     21\n",
              "3    1985   1106     751     10\n",
              "4    1985   1108    1631     19"
            ]
          },
          "metadata": {},
          "execution_count": 19
        }
      ]
    },
    {
      "cell_type": "code",
      "metadata": {
        "colab": {
          "base_uri": "https://localhost:8080/",
          "height": 204
        },
        "id": "F3m8fyDX0F20",
        "outputId": "a5911ceb-f7f3-4d49-f108-0c7107373dc6"
      },
      "source": [
        "df_losing_team_scores.head()"
      ],
      "execution_count": 20,
      "outputs": [
        {
          "output_type": "execute_result",
          "data": {
            "text/html": [
              "<div>\n",
              "<style scoped>\n",
              "    .dataframe tbody tr th:only-of-type {\n",
              "        vertical-align: middle;\n",
              "    }\n",
              "\n",
              "    .dataframe tbody tr th {\n",
              "        vertical-align: top;\n",
              "    }\n",
              "\n",
              "    .dataframe thead th {\n",
              "        text-align: right;\n",
              "    }\n",
              "</style>\n",
              "<table border=\"1\" class=\"dataframe\">\n",
              "  <thead>\n",
              "    <tr style=\"text-align: right;\">\n",
              "      <th></th>\n",
              "      <th>Season</th>\n",
              "      <th>Lteam</th>\n",
              "      <th>Lscore</th>\n",
              "      <th>count</th>\n",
              "    </tr>\n",
              "  </thead>\n",
              "  <tbody>\n",
              "    <tr>\n",
              "      <th>0</th>\n",
              "      <td>1985</td>\n",
              "      <td>1102</td>\n",
              "      <td>1159</td>\n",
              "      <td>19</td>\n",
              "    </tr>\n",
              "    <tr>\n",
              "      <th>1</th>\n",
              "      <td>1985</td>\n",
              "      <td>1103</td>\n",
              "      <td>772</td>\n",
              "      <td>14</td>\n",
              "    </tr>\n",
              "    <tr>\n",
              "      <th>2</th>\n",
              "      <td>1985</td>\n",
              "      <td>1104</td>\n",
              "      <td>541</td>\n",
              "      <td>9</td>\n",
              "    </tr>\n",
              "    <tr>\n",
              "      <th>3</th>\n",
              "      <td>1985</td>\n",
              "      <td>1106</td>\n",
              "      <td>968</td>\n",
              "      <td>14</td>\n",
              "    </tr>\n",
              "    <tr>\n",
              "      <th>4</th>\n",
              "      <td>1985</td>\n",
              "      <td>1108</td>\n",
              "      <td>444</td>\n",
              "      <td>6</td>\n",
              "    </tr>\n",
              "  </tbody>\n",
              "</table>\n",
              "</div>"
            ],
            "text/plain": [
              "   Season  Lteam  Lscore  count\n",
              "0    1985   1102    1159     19\n",
              "1    1985   1103     772     14\n",
              "2    1985   1104     541      9\n",
              "3    1985   1106     968     14\n",
              "4    1985   1108     444      6"
            ]
          },
          "metadata": {},
          "execution_count": 20
        }
      ]
    },
    {
      "cell_type": "code",
      "metadata": {
        "id": "YMd9BoVhn1hE"
      },
      "source": [
        "# Merging the dataframes created above \"df_win_team_scores\" and \"df_losing_team_scores\" to further compute the average\n",
        "# Merge is performed on columns Seson and team.\n",
        "mearged_df = pd.merge(df_win_team_scores, df_losing_team_scores, left_on= ['Season', 'Wteam'], right_on= ['Season', 'Lteam'] )"
      ],
      "execution_count": 21,
      "outputs": []
    },
    {
      "cell_type": "code",
      "metadata": {
        "colab": {
          "base_uri": "https://localhost:8080/",
          "height": 204
        },
        "id": "MJpi6IJQpkiF",
        "outputId": "d6d9c7fa-99b5-4e63-8cb9-ffd713f3b9c9"
      },
      "source": [
        "mearged_df.head()"
      ],
      "execution_count": 22,
      "outputs": [
        {
          "output_type": "execute_result",
          "data": {
            "text/html": [
              "<div>\n",
              "<style scoped>\n",
              "    .dataframe tbody tr th:only-of-type {\n",
              "        vertical-align: middle;\n",
              "    }\n",
              "\n",
              "    .dataframe tbody tr th {\n",
              "        vertical-align: top;\n",
              "    }\n",
              "\n",
              "    .dataframe thead th {\n",
              "        text-align: right;\n",
              "    }\n",
              "</style>\n",
              "<table border=\"1\" class=\"dataframe\">\n",
              "  <thead>\n",
              "    <tr style=\"text-align: right;\">\n",
              "      <th></th>\n",
              "      <th>Season</th>\n",
              "      <th>Wteam</th>\n",
              "      <th>Wscore</th>\n",
              "      <th>count_x</th>\n",
              "      <th>Lteam</th>\n",
              "      <th>Lscore</th>\n",
              "      <th>count_y</th>\n",
              "    </tr>\n",
              "  </thead>\n",
              "  <tbody>\n",
              "    <tr>\n",
              "      <th>0</th>\n",
              "      <td>1985</td>\n",
              "      <td>1102</td>\n",
              "      <td>355</td>\n",
              "      <td>5</td>\n",
              "      <td>1102</td>\n",
              "      <td>1159</td>\n",
              "      <td>19</td>\n",
              "    </tr>\n",
              "    <tr>\n",
              "      <th>1</th>\n",
              "      <td>1985</td>\n",
              "      <td>1103</td>\n",
              "      <td>632</td>\n",
              "      <td>9</td>\n",
              "      <td>1103</td>\n",
              "      <td>772</td>\n",
              "      <td>14</td>\n",
              "    </tr>\n",
              "    <tr>\n",
              "      <th>2</th>\n",
              "      <td>1985</td>\n",
              "      <td>1104</td>\n",
              "      <td>1514</td>\n",
              "      <td>21</td>\n",
              "      <td>1104</td>\n",
              "      <td>541</td>\n",
              "      <td>9</td>\n",
              "    </tr>\n",
              "    <tr>\n",
              "      <th>3</th>\n",
              "      <td>1985</td>\n",
              "      <td>1106</td>\n",
              "      <td>751</td>\n",
              "      <td>10</td>\n",
              "      <td>1106</td>\n",
              "      <td>968</td>\n",
              "      <td>14</td>\n",
              "    </tr>\n",
              "    <tr>\n",
              "      <th>4</th>\n",
              "      <td>1985</td>\n",
              "      <td>1108</td>\n",
              "      <td>1631</td>\n",
              "      <td>19</td>\n",
              "      <td>1108</td>\n",
              "      <td>444</td>\n",
              "      <td>6</td>\n",
              "    </tr>\n",
              "  </tbody>\n",
              "</table>\n",
              "</div>"
            ],
            "text/plain": [
              "   Season  Wteam  Wscore  count_x  Lteam  Lscore  count_y\n",
              "0    1985   1102     355        5   1102    1159       19\n",
              "1    1985   1103     632        9   1103     772       14\n",
              "2    1985   1104    1514       21   1104     541        9\n",
              "3    1985   1106     751       10   1106     968       14\n",
              "4    1985   1108    1631       19   1108     444        6"
            ]
          },
          "metadata": {},
          "execution_count": 22
        }
      ]
    },
    {
      "cell_type": "code",
      "metadata": {
        "id": "xkQ7Tkw8p0Bn"
      },
      "source": [
        "# Computing the total score and the total number of games for a team split yearwise\n",
        "mearged_df[\"Total_Score\"] = mearged_df[\"Wscore\"] + mearged_df[\"Lscore\"]\n",
        "mearged_df[\"Total_Games\"] = mearged_df[\"count_x\"] + mearged_df[\"count_y\"]\n",
        "mearged_df['Team'] = mearged_df[\"Wteam\"]"
      ],
      "execution_count": 23,
      "outputs": []
    },
    {
      "cell_type": "code",
      "metadata": {
        "id": "7kqUpD_Yse7a"
      },
      "source": [
        "#Calculating the average\n",
        "mearged_df[\"Avg_Score\"] = mearged_df[\"Total_Score\"]/mearged_df[\"Total_Games\"]"
      ],
      "execution_count": 24,
      "outputs": []
    },
    {
      "cell_type": "code",
      "metadata": {
        "colab": {
          "base_uri": "https://localhost:8080/",
          "height": 204
        },
        "id": "MhOMooS8sOS6",
        "outputId": "df2bdbcc-0e44-458e-f4f3-51074df36a30"
      },
      "source": [
        "mearged_df.head()"
      ],
      "execution_count": 25,
      "outputs": [
        {
          "output_type": "execute_result",
          "data": {
            "text/html": [
              "<div>\n",
              "<style scoped>\n",
              "    .dataframe tbody tr th:only-of-type {\n",
              "        vertical-align: middle;\n",
              "    }\n",
              "\n",
              "    .dataframe tbody tr th {\n",
              "        vertical-align: top;\n",
              "    }\n",
              "\n",
              "    .dataframe thead th {\n",
              "        text-align: right;\n",
              "    }\n",
              "</style>\n",
              "<table border=\"1\" class=\"dataframe\">\n",
              "  <thead>\n",
              "    <tr style=\"text-align: right;\">\n",
              "      <th></th>\n",
              "      <th>Season</th>\n",
              "      <th>Wteam</th>\n",
              "      <th>Wscore</th>\n",
              "      <th>count_x</th>\n",
              "      <th>Lteam</th>\n",
              "      <th>Lscore</th>\n",
              "      <th>count_y</th>\n",
              "      <th>Total_Score</th>\n",
              "      <th>Total_Games</th>\n",
              "      <th>Team</th>\n",
              "      <th>Avg_Score</th>\n",
              "    </tr>\n",
              "  </thead>\n",
              "  <tbody>\n",
              "    <tr>\n",
              "      <th>0</th>\n",
              "      <td>1985</td>\n",
              "      <td>1102</td>\n",
              "      <td>355</td>\n",
              "      <td>5</td>\n",
              "      <td>1102</td>\n",
              "      <td>1159</td>\n",
              "      <td>19</td>\n",
              "      <td>1514</td>\n",
              "      <td>24</td>\n",
              "      <td>1102</td>\n",
              "      <td>63.083333</td>\n",
              "    </tr>\n",
              "    <tr>\n",
              "      <th>1</th>\n",
              "      <td>1985</td>\n",
              "      <td>1103</td>\n",
              "      <td>632</td>\n",
              "      <td>9</td>\n",
              "      <td>1103</td>\n",
              "      <td>772</td>\n",
              "      <td>14</td>\n",
              "      <td>1404</td>\n",
              "      <td>23</td>\n",
              "      <td>1103</td>\n",
              "      <td>61.043478</td>\n",
              "    </tr>\n",
              "    <tr>\n",
              "      <th>2</th>\n",
              "      <td>1985</td>\n",
              "      <td>1104</td>\n",
              "      <td>1514</td>\n",
              "      <td>21</td>\n",
              "      <td>1104</td>\n",
              "      <td>541</td>\n",
              "      <td>9</td>\n",
              "      <td>2055</td>\n",
              "      <td>30</td>\n",
              "      <td>1104</td>\n",
              "      <td>68.500000</td>\n",
              "    </tr>\n",
              "    <tr>\n",
              "      <th>3</th>\n",
              "      <td>1985</td>\n",
              "      <td>1106</td>\n",
              "      <td>751</td>\n",
              "      <td>10</td>\n",
              "      <td>1106</td>\n",
              "      <td>968</td>\n",
              "      <td>14</td>\n",
              "      <td>1719</td>\n",
              "      <td>24</td>\n",
              "      <td>1106</td>\n",
              "      <td>71.625000</td>\n",
              "    </tr>\n",
              "    <tr>\n",
              "      <th>4</th>\n",
              "      <td>1985</td>\n",
              "      <td>1108</td>\n",
              "      <td>1631</td>\n",
              "      <td>19</td>\n",
              "      <td>1108</td>\n",
              "      <td>444</td>\n",
              "      <td>6</td>\n",
              "      <td>2075</td>\n",
              "      <td>25</td>\n",
              "      <td>1108</td>\n",
              "      <td>83.000000</td>\n",
              "    </tr>\n",
              "  </tbody>\n",
              "</table>\n",
              "</div>"
            ],
            "text/plain": [
              "   Season  Wteam  Wscore  count_x  ...  Total_Score  Total_Games  Team  Avg_Score\n",
              "0    1985   1102     355        5  ...         1514           24  1102  63.083333\n",
              "1    1985   1103     632        9  ...         1404           23  1103  61.043478\n",
              "2    1985   1104    1514       21  ...         2055           30  1104  68.500000\n",
              "3    1985   1106     751       10  ...         1719           24  1106  71.625000\n",
              "4    1985   1108    1631       19  ...         2075           25  1108  83.000000\n",
              "\n",
              "[5 rows x 11 columns]"
            ]
          },
          "metadata": {},
          "execution_count": 25
        }
      ]
    },
    {
      "cell_type": "code",
      "metadata": {
        "id": "53slsrRSsQRh"
      },
      "source": [
        "#Creating a seperate dataframe to view the results\n",
        "df_Final_output = mearged_df[['Season', 'Team', 'Total_Score', 'Total_Games', 'Avg_Score']]"
      ],
      "execution_count": 26,
      "outputs": []
    },
    {
      "cell_type": "code",
      "metadata": {
        "colab": {
          "base_uri": "https://localhost:8080/",
          "height": 204
        },
        "id": "HblBZJV0tI1I",
        "outputId": "c0e78129-7c17-41ee-d3f1-f7c3763a25b5"
      },
      "source": [
        "df_Final_output.tail()"
      ],
      "execution_count": 27,
      "outputs": [
        {
          "output_type": "execute_result",
          "data": {
            "text/html": [
              "<div>\n",
              "<style scoped>\n",
              "    .dataframe tbody tr th:only-of-type {\n",
              "        vertical-align: middle;\n",
              "    }\n",
              "\n",
              "    .dataframe tbody tr th {\n",
              "        vertical-align: top;\n",
              "    }\n",
              "\n",
              "    .dataframe thead th {\n",
              "        text-align: right;\n",
              "    }\n",
              "</style>\n",
              "<table border=\"1\" class=\"dataframe\">\n",
              "  <thead>\n",
              "    <tr style=\"text-align: right;\">\n",
              "      <th></th>\n",
              "      <th>Season</th>\n",
              "      <th>Team</th>\n",
              "      <th>Total_Score</th>\n",
              "      <th>Total_Games</th>\n",
              "      <th>Avg_Score</th>\n",
              "    </tr>\n",
              "  </thead>\n",
              "  <tbody>\n",
              "    <tr>\n",
              "      <th>10164</th>\n",
              "      <td>2016</td>\n",
              "      <td>1460</td>\n",
              "      <td>2265</td>\n",
              "      <td>33</td>\n",
              "      <td>68.636364</td>\n",
              "    </tr>\n",
              "    <tr>\n",
              "      <th>10165</th>\n",
              "      <td>2016</td>\n",
              "      <td>1461</td>\n",
              "      <td>2110</td>\n",
              "      <td>30</td>\n",
              "      <td>70.333333</td>\n",
              "    </tr>\n",
              "    <tr>\n",
              "      <th>10166</th>\n",
              "      <td>2016</td>\n",
              "      <td>1462</td>\n",
              "      <td>2603</td>\n",
              "      <td>32</td>\n",
              "      <td>81.343750</td>\n",
              "    </tr>\n",
              "    <tr>\n",
              "      <th>10167</th>\n",
              "      <td>2016</td>\n",
              "      <td>1463</td>\n",
              "      <td>2011</td>\n",
              "      <td>27</td>\n",
              "      <td>74.481481</td>\n",
              "    </tr>\n",
              "    <tr>\n",
              "      <th>10168</th>\n",
              "      <td>2016</td>\n",
              "      <td>1464</td>\n",
              "      <td>2269</td>\n",
              "      <td>30</td>\n",
              "      <td>75.633333</td>\n",
              "    </tr>\n",
              "  </tbody>\n",
              "</table>\n",
              "</div>"
            ],
            "text/plain": [
              "       Season  Team  Total_Score  Total_Games  Avg_Score\n",
              "10164    2016  1460         2265           33  68.636364\n",
              "10165    2016  1461         2110           30  70.333333\n",
              "10166    2016  1462         2603           32  81.343750\n",
              "10167    2016  1463         2011           27  74.481481\n",
              "10168    2016  1464         2269           30  75.633333"
            ]
          },
          "metadata": {},
          "execution_count": 27
        }
      ]
    },
    {
      "cell_type": "code",
      "metadata": {
        "id": "YW47gQGxtWFQ"
      },
      "source": [
        "# For plotting purposes, creating a dataframe with columns that are required.\n",
        "df_plot = df_Final_output[df_Final_output.Team == 1461][[\"Season\", \"Avg_Score\"]]"
      ],
      "execution_count": 28,
      "outputs": []
    },
    {
      "cell_type": "code",
      "metadata": {
        "colab": {
          "base_uri": "https://localhost:8080/",
          "height": 204
        },
        "id": "rr-kU9--tp1P",
        "outputId": "fded6d93-3dd1-4519-8f25-0c67b6a40f65"
      },
      "source": [
        "df_plot.head()"
      ],
      "execution_count": 29,
      "outputs": [
        {
          "output_type": "execute_result",
          "data": {
            "text/html": [
              "<div>\n",
              "<style scoped>\n",
              "    .dataframe tbody tr th:only-of-type {\n",
              "        vertical-align: middle;\n",
              "    }\n",
              "\n",
              "    .dataframe tbody tr th {\n",
              "        vertical-align: top;\n",
              "    }\n",
              "\n",
              "    .dataframe thead th {\n",
              "        text-align: right;\n",
              "    }\n",
              "</style>\n",
              "<table border=\"1\" class=\"dataframe\">\n",
              "  <thead>\n",
              "    <tr style=\"text-align: right;\">\n",
              "      <th></th>\n",
              "      <th>Season</th>\n",
              "      <th>Avg_Score</th>\n",
              "    </tr>\n",
              "  </thead>\n",
              "  <tbody>\n",
              "    <tr>\n",
              "      <th>278</th>\n",
              "      <td>1985</td>\n",
              "      <td>63.576923</td>\n",
              "    </tr>\n",
              "    <tr>\n",
              "      <th>560</th>\n",
              "      <td>1986</td>\n",
              "      <td>68.586207</td>\n",
              "    </tr>\n",
              "    <tr>\n",
              "      <th>849</th>\n",
              "      <td>1987</td>\n",
              "      <td>70.500000</td>\n",
              "    </tr>\n",
              "    <tr>\n",
              "      <th>1139</th>\n",
              "      <td>1988</td>\n",
              "      <td>75.866667</td>\n",
              "    </tr>\n",
              "    <tr>\n",
              "      <th>1432</th>\n",
              "      <td>1989</td>\n",
              "      <td>72.806452</td>\n",
              "    </tr>\n",
              "  </tbody>\n",
              "</table>\n",
              "</div>"
            ],
            "text/plain": [
              "      Season  Avg_Score\n",
              "278     1985  63.576923\n",
              "560     1986  68.586207\n",
              "849     1987  70.500000\n",
              "1139    1988  75.866667\n",
              "1432    1989  72.806452"
            ]
          },
          "metadata": {},
          "execution_count": 29
        }
      ]
    },
    {
      "cell_type": "code",
      "metadata": {
        "colab": {
          "base_uri": "https://localhost:8080/",
          "height": 422
        },
        "id": "yoNk-X0lurFw",
        "outputId": "a15d0030-b265-4031-c342-1de72afdc382"
      },
      "source": [
        "# Plotting the graph where x-axis is the year and y-axis is the value\n",
        "plt.rc('font', size=12)\n",
        "fig, ax = plt.subplots(figsize=(10, 6))\n",
        "plt.xlabel('Year\\n', fontsize = 20)\n",
        "plt.ylabel('Average\\n', fontsize = 20)\n",
        "\n",
        "ax.plot(df_plot.Season, df_plot.Avg_Score);"
      ],
      "execution_count": 30,
      "outputs": [
        {
          "output_type": "display_data",
          "data": {
            "image/png": "[encoded data removed]",
            "text/plain": [
              "<Figure size 720x432 with 1 Axes>"
            ]
          },
          "metadata": {
            "needs_background": "light"
          }
        }
      ]
    }
  ]
}